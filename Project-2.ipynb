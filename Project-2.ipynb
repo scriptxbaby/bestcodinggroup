{
 "cells": [
  {
   "cell_type": "markdown",
   "id": "01105d94",
   "metadata": {},
   "source": [
    "# Machine Learning with Python \n",
    "\n",
    "## Digit recognition with Scikit-learn and MNIST \n",
    "\n",
    "##### Course: 'Skills: Programming - Introduction Level' \n",
    "\n",
    "    Ana Carolina Dias (AnaCarolinaDias)\n",
    "    Alexandre Guye-Bergeret (AlexG)\n",
    "    Armin Handanagic (scriptxbaby)\n",
    "    Janek Mattheus (Muggy)\n",
    "    Michael Sigg (Michi98) "
   ]
  },
  {
   "cell_type": "markdown",
   "id": "a0df8ae3",
   "metadata": {},
   "source": [
    "### Setup "
   ]
  },
  {
   "cell_type": "code",
   "execution_count": 123,
   "id": "1a5e27d4",
   "metadata": {},
   "outputs": [],
   "source": [
    "import numpy as np\n",
    "import matplotlib.pyplot as plt\n",
    "import seaborn as sns\n",
    "#Used for Confusion matrix\n",
    "from sklearn import metrics\n",
    "\n",
    "#Used for importing the data\n",
    "import mnist\n",
    "\n",
    "%matplotlib inline"
   ]
  },
  {
   "cell_type": "markdown",
   "id": "8d434824",
   "metadata": {},
   "source": [
    "#### Loading the data "
   ]
  },
  {
   "cell_type": "code",
   "execution_count": 42,
   "id": "bb6cd079",
   "metadata": {},
   "outputs": [],
   "source": [
    "# downloading the data via the mnist package \n",
    "\n",
    "train_img = mnist.train_images()\n",
    "train_lbl = mnist.train_labels()\n",
    "\n",
    "test_img = mnist.test_images()\n",
    "test_lbl = mnist.test_labels()\n",
    "\n",
    "# reshape the data: so that we have two dimensional data\n",
    "train_img = train_img.reshape((train_img.shape[0], train_img.shape[1] * train_img.shape[2]))\n",
    "test_img =  test_img.reshape((test_img.shape[0], test_img.shape[1] * test_img.shape[2]))"
   ]
  },
  {
   "cell_type": "code",
   "execution_count": 43,
   "id": "46864b50",
   "metadata": {},
   "outputs": [
    {
     "name": "stdout",
     "output_type": "stream",
     "text": [
      "(60000, 784)\n",
      "(60000,)\n",
      "(10000, 784)\n",
      "(10000,)\n"
     ]
    }
   ],
   "source": [
    "print(train_img.shape)\n",
    "    # in the training set, we have 60'000 digits, \n",
    "    # and each digit is represented by 784 pixels (which are our features to predict the label (digit))\n",
    "print(train_lbl.shape)\n",
    "print(test_img.shape)\n",
    "print(test_lbl.shape)"
   ]
  },
  {
   "cell_type": "markdown",
   "id": "585f2f33",
   "metadata": {},
   "source": [
    "### Data Analysis"
   ]
  },
  {
   "cell_type": "markdown",
   "id": "20f8858a",
   "metadata": {},
   "source": [
    "#### Showing the first 5 Training Digits and Labels"
   ]
  },
  {
   "cell_type": "code",
   "execution_count": 44,
   "id": "1473d597",
   "metadata": {},
   "outputs": [
    {
     "data": {
      "image/png": "[encoded data removed]",
      "text/plain": [
       "<Figure size 1440x288 with 5 Axes>"
      ]
     },
     "metadata": {
      "needs_background": "light"
     },
     "output_type": "display_data"
    }
   ],
   "source": [
    "plt.figure(figsize=(20,4))\n",
    "for index, (image, label) in enumerate(zip(train_img[0:5], train_lbl[0:5])):\n",
    "    plt.subplot(1, 5, index + 1)\n",
    "    plt.imshow(np.reshape(image, (28,28)), cmap = plt.cm.gray)\n",
    "    plt.title('Training: %i\\n' % label, fontsize = 20)"
   ]
  },
  {
   "cell_type": "code",
   "execution_count": 45,
   "id": "ac9c33ef",
   "metadata": {
    "scrolled": true
   },
   "outputs": [
    {
     "name": "stdout",
     "output_type": "stream",
     "text": [
      "[  0   0   0   0   0   0   0   0   0   0   0   0   0   0   0   0   0   0\n",
      "   0   0   0   0   0   0   0   0   0   0   0   0   0   0   0   0   0   0\n",
      "   0   0   0   0   0   0   0   0   0   0   0   0   0   0   0   0   0   0\n",
      "   0   0   0   0   0   0   0   0   0   0   0   0   0   0   0   0   0   0\n",
      "   0   0   0   0   0   0   0   0   0   0   0   0   0   0   0   0   0   0\n",
      "   0   0   0   0   0   0   0   0   0   0   0   0   0   0   0   0   0   0\n",
      "   0   0   0   0   0   0   0   0   0   0   0   0   0   0   0   0   0   0\n",
      "   0   0   0   0   0   0   0   0   0   0   0   0   0   0   0   0   0   0\n",
      "   0   0   0   0   0   0   0   0   3  18  18  18 126 136 175  26 166 255\n",
      " 247 127   0   0   0   0   0   0   0   0   0   0   0   0  30  36  94 154\n",
      " 170 253 253 253 253 253 225 172 253 242 195  64   0   0   0   0   0   0\n",
      "   0   0   0   0   0  49 238 253 253 253 253 253 253 253 253 251  93  82\n",
      "  82  56  39   0   0   0   0   0   0   0   0   0   0   0   0  18 219 253\n",
      " 253 253 253 253 198 182 247 241   0   0   0   0   0   0   0   0   0   0\n",
      "   0   0   0   0   0   0   0   0  80 156 107 253 253 205  11   0  43 154\n",
      "   0   0   0   0   0   0   0   0   0   0   0   0   0   0   0   0   0   0\n",
      "   0  14   1 154 253  90   0   0   0   0   0   0   0   0   0   0   0   0\n",
      "   0   0   0   0   0   0   0   0   0   0   0   0   0 139 253 190   2   0\n",
      "   0   0   0   0   0   0   0   0   0   0   0   0   0   0   0   0   0   0\n",
      "   0   0   0   0   0  11 190 253  70   0   0   0   0   0   0   0   0   0\n",
      "   0   0   0   0   0   0   0   0   0   0   0   0   0   0   0   0  35 241\n",
      " 225 160 108   1   0   0   0   0   0   0   0   0   0   0   0   0   0   0\n",
      "   0   0   0   0   0   0   0   0   0  81 240 253 253 119  25   0   0   0\n",
      "   0   0   0   0   0   0   0   0   0   0   0   0   0   0   0   0   0   0\n",
      "   0   0  45 186 253 253 150  27   0   0   0   0   0   0   0   0   0   0\n",
      "   0   0   0   0   0   0   0   0   0   0   0   0   0  16  93 252 253 187\n",
      "   0   0   0   0   0   0   0   0   0   0   0   0   0   0   0   0   0   0\n",
      "   0   0   0   0   0   0   0 249 253 249  64   0   0   0   0   0   0   0\n",
      "   0   0   0   0   0   0   0   0   0   0   0   0   0   0  46 130 183 253\n",
      " 253 207   2   0   0   0   0   0   0   0   0   0   0   0   0   0   0   0\n",
      "   0   0   0   0  39 148 229 253 253 253 250 182   0   0   0   0   0   0\n",
      "   0   0   0   0   0   0   0   0   0   0   0   0  24 114 221 253 253 253\n",
      " 253 201  78   0   0   0   0   0   0   0   0   0   0   0   0   0   0   0\n",
      "   0   0  23  66 213 253 253 253 253 198  81   2   0   0   0   0   0   0\n",
      "   0   0   0   0   0   0   0   0   0   0  18 171 219 253 253 253 253 195\n",
      "  80   9   0   0   0   0   0   0   0   0   0   0   0   0   0   0   0   0\n",
      "  55 172 226 253 253 253 253 244 133  11   0   0   0   0   0   0   0   0\n",
      "   0   0   0   0   0   0   0   0   0   0 136 253 253 253 212 135 132  16\n",
      "   0   0   0   0   0   0   0   0   0   0   0   0   0   0   0   0   0   0\n",
      "   0   0   0   0   0   0   0   0   0   0   0   0   0   0   0   0   0   0\n",
      "   0   0   0   0   0   0   0   0   0   0   0   0   0   0   0   0   0   0\n",
      "   0   0   0   0   0   0   0   0   0   0   0   0   0   0   0   0   0   0\n",
      "   0   0   0   0   0   0   0   0   0   0   0   0   0   0   0   0   0   0\n",
      "   0   0   0   0   0   0   0   0   0   0]\n"
     ]
    }
   ],
   "source": [
    "#This is how the number 5 is represented in the data\n",
    "print(train_img[0])"
   ]
  },
  {
   "cell_type": "code",
   "execution_count": 143,
   "id": "b68e02b3",
   "metadata": {},
   "outputs": [
    {
     "data": {
      "text/plain": [
       "{0: 5923,\n",
       " 1: 6742,\n",
       " 2: 5958,\n",
       " 3: 6131,\n",
       " 4: 5842,\n",
       " 5: 5421,\n",
       " 6: 5918,\n",
       " 7: 6265,\n",
       " 8: 5851,\n",
       " 9: 5949}"
      ]
     },
     "execution_count": 143,
     "metadata": {},
     "output_type": "execute_result"
    }
   ],
   "source": [
    "# count of each digit in training set \n",
    "unique, counts = np.unique(train_lbl, return_counts=True)\n",
    "dict(zip(unique, counts))"
   ]
  },
  {
   "cell_type": "code",
   "execution_count": 142,
   "id": "12a9a565",
   "metadata": {},
   "outputs": [
    {
     "data": {
      "image/png": "[encoded data removed]",
      "text/plain": [
       "<Figure size 432x288 with 1 Axes>"
      ]
     },
     "metadata": {},
     "output_type": "display_data"
    }
   ],
   "source": [
    "# illustrated as a figure \n",
    "fig = plt.figure()\n",
    "ax = fig.add_axes([0,0,1,1])\n",
    "digits = [0,1,2,3,4,5,6,7,8,9]\n",
    "count = counts\n",
    "ax.bar(digits, counts)\n",
    "plt.show()"
   ]
  },
  {
   "cell_type": "markdown",
   "id": "622c6098",
   "metadata": {},
   "source": [
    "### Logistic Regression"
   ]
  },
  {
   "cell_type": "code",
   "execution_count": 81,
   "id": "2a53d3e0",
   "metadata": {},
   "outputs": [],
   "source": [
    "# Importing the model we want to use\n",
    "from sklearn.linear_model import LogisticRegression"
   ]
  },
  {
   "cell_type": "code",
   "execution_count": 82,
   "id": "6bd88e5d",
   "metadata": {},
   "outputs": [],
   "source": [
    "# Make an instance of the Model \n",
    "# we need to change the solver (default is very slow)\n",
    "logisticRegr = LogisticRegression(C=50.0, penalty=\"l1\", solver=\"saga\", tol=0.1)"
   ]
  },
  {
   "cell_type": "code",
   "execution_count": 83,
   "id": "d6f6356a",
   "metadata": {},
   "outputs": [
    {
     "data": {
      "text/plain": [
       "LogisticRegression(C=50.0, penalty='l1', solver='saga', tol=0.1)"
      ]
     },
     "execution_count": 83,
     "metadata": {},
     "output_type": "execute_result"
    }
   ],
   "source": [
    "# Training the model on our training data\n",
    "logisticRegr.fit(train_img, train_lbl)"
   ]
  },
  {
   "cell_type": "code",
   "execution_count": 84,
   "id": "6c1a29d2",
   "metadata": {},
   "outputs": [],
   "source": [
    "# Use the model to make predictions on testing data \n",
    "predictions_log = logisticRegr.predict(test_img)"
   ]
  },
  {
   "cell_type": "code",
   "execution_count": 85,
   "id": "1f77ffd0",
   "metadata": {},
   "outputs": [
    {
     "data": {
      "text/plain": [
       "(10000,)"
      ]
     },
     "execution_count": 85,
     "metadata": {},
     "output_type": "execute_result"
    }
   ],
   "source": [
    "predictions_log.shape"
   ]
  },
  {
   "cell_type": "code",
   "execution_count": 86,
   "id": "b0f607fb",
   "metadata": {},
   "outputs": [
    {
     "data": {
      "text/plain": [
       "0.924"
      ]
     },
     "execution_count": 86,
     "metadata": {},
     "output_type": "execute_result"
    }
   ],
   "source": [
    "# Measuring Performance/ Accuracy\n",
    "logisticRegr.score(test_img, test_lbl)"
   ]
  },
  {
   "cell_type": "markdown",
   "id": "50888bb2",
   "metadata": {},
   "source": [
    "### Random Forest "
   ]
  },
  {
   "cell_type": "code",
   "execution_count": 79,
   "id": "9db5b766",
   "metadata": {},
   "outputs": [],
   "source": [
    "from sklearn.ensemble import RandomForestClassifier"
   ]
  },
  {
   "cell_type": "code",
   "execution_count": 90,
   "id": "5fc465b3",
   "metadata": {},
   "outputs": [
    {
     "data": {
      "text/plain": [
       "RandomForestClassifier(n_estimators=80)"
      ]
     },
     "execution_count": 90,
     "metadata": {},
     "output_type": "execute_result"
    }
   ],
   "source": [
    "rf = RandomForestClassifier(n_estimators=40)\n",
    "rf.fit(train_img, train_lbl)"
   ]
  },
  {
   "cell_type": "code",
   "execution_count": 89,
   "id": "d014734b",
   "metadata": {},
   "outputs": [],
   "source": [
    "predictions_rf = rf.predict(test_img)"
   ]
  },
  {
   "cell_type": "code",
   "execution_count": 96,
   "id": "a6e9806f",
   "metadata": {},
   "outputs": [
    {
     "data": {
      "text/plain": [
       "0.9694"
      ]
     },
     "execution_count": 96,
     "metadata": {},
     "output_type": "execute_result"
    }
   ],
   "source": [
    "rf.score(test_img, test_lbl)"
   ]
  },
  {
   "cell_type": "markdown",
   "id": "868af947",
   "metadata": {},
   "source": [
    "### Neural Network Classifier"
   ]
  },
  {
   "cell_type": "code",
   "execution_count": 97,
   "id": "cc8eace4",
   "metadata": {},
   "outputs": [],
   "source": [
    "from sklearn.neural_network import MLPClassifier"
   ]
  },
  {
   "cell_type": "code",
   "execution_count": 98,
   "id": "d29d0c89",
   "metadata": {},
   "outputs": [
    {
     "data": {
      "text/plain": [
       "MLPClassifier(random_state=42)"
      ]
     },
     "execution_count": 98,
     "metadata": {},
     "output_type": "execute_result"
    }
   ],
   "source": [
    "mlp_clf = MLPClassifier(random_state=42)\n",
    "mlp_clf.fit(train_img, train_lbl)"
   ]
  },
  {
   "cell_type": "code",
   "execution_count": 99,
   "id": "5eaa648b",
   "metadata": {},
   "outputs": [
    {
     "data": {
      "text/plain": [
       "0.9593"
      ]
     },
     "execution_count": 99,
     "metadata": {},
     "output_type": "execute_result"
    }
   ],
   "source": [
    "mlp_clf.score(test_img, test_lbl)"
   ]
  },
  {
   "cell_type": "markdown",
   "id": "d4b32551",
   "metadata": {},
   "source": [
    "### Evaluating Models Using K-Fold Cross Validation "
   ]
  },
  {
   "cell_type": "code",
   "execution_count": 76,
   "id": "e3cc5392",
   "metadata": {},
   "outputs": [],
   "source": [
    "from sklearn.model_selection import cross_val_score"
   ]
  },
  {
   "cell_type": "code",
   "execution_count": 101,
   "id": "c9f38108",
   "metadata": {},
   "outputs": [],
   "source": [
    "# Cross-Validation Score for Logistic Regression\n",
    "log_score = cross_val_score(LogisticRegression(C=50.0, penalty=\"l1\", solver=\"saga\", tol=0.1), train_img, train_lbl)"
   ]
  },
  {
   "cell_type": "code",
   "execution_count": 102,
   "id": "f6d1a4a1",
   "metadata": {},
   "outputs": [],
   "source": [
    "# Cross-Validation Score for RandomForest \n",
    "rf_score = cross_val_score(RandomForestClassifier(n_estimators=40), train_img, train_lbl)"
   ]
  },
  {
   "cell_type": "code",
   "execution_count": 103,
   "id": "981b36dc",
   "metadata": {},
   "outputs": [],
   "source": [
    "# Cross-Validation Score for Neural Network \n",
    "mlp_score = cross_val_score(MLPClassifier(random_state=42), train_img, train_lbl)"
   ]
  },
  {
   "cell_type": "code",
   "execution_count": 118,
   "id": "885cad14",
   "metadata": {},
   "outputs": [
    {
     "name": "stdout",
     "output_type": "stream",
     "text": [
      "Logistic Regression Score:  0.9195166666666668\n",
      "Random Forest Score:  0.9622666666666667\n",
      "Neural Network Score:  0.9607333333333333\n"
     ]
    }
   ],
   "source": [
    "# Which model had the best average score? \n",
    "print('Logistic Regression Score: ', log_score.mean())\n",
    "print('Random Forest Score: ', rf_score.mean())\n",
    "print('Neural Network Score: ', mlp_score.mean())"
   ]
  },
  {
   "cell_type": "markdown",
   "id": "5ccc9a6d",
   "metadata": {},
   "source": [
    "#### Evaluation\n",
    "\n",
    "As can be seen above, using a 5-Fold Cross Validation, the Random Forest Classifier achieves a sligthy higher accuracy than our neural network classifier and is significantly higher than a Logistic Regression. Therefore, the Random Forest model is best suited to predict the digits in our data and the rest of our project will focus on it."
   ]
  },
  {
   "cell_type": "markdown",
   "id": "d68dc967",
   "metadata": {},
   "source": [
    "## Measuring the Model Performance \n",
    "### Confusion Matrix"
   ]
  },
  {
   "cell_type": "code",
   "execution_count": 52,
   "id": "d32b1948",
   "metadata": {},
   "outputs": [],
   "source": [
    "def plot_confusion_matrix(cm, title = 'Confusion Matrix', cmap = 'Pastel1'):\n",
    "    plt.figure(figsize=(9,9))\n",
    "    plt.imshow(cm, interpolation='nearest', cmap=cmap)\n",
    "    plt.title(title, size = 15)\n",
    "    plt.colorbar()\n",
    "    tick_marks = np.arange(10)\n",
    "    plt.xticks(tick_marks, [\"0\",\"1\",\"2\",\"3\",\"4\",\"5\",\"6\",\"7\",\"8\",\"9\"], rotation = 45, size = 10)\n",
    "    plt.yticks(tick_marks, [\"0\",\"1\",\"2\",\"3\",\"4\",\"5\",\"6\",\"7\",\"8\",\"9\"], size = 10)\n",
    "    plt.tight_layout()\n",
    "    plt.ylabel('Actual label', size = 15)\n",
    "    plt.xlabel('Predicted label', size = 15)\n",
    "    width, height = cm.shape\n",
    "    \n",
    "    for x in range(width):\n",
    "        for y in range(height):\n",
    "            plt.annotate(str(cm[x][y]), xy=(y, x),\n",
    "                         horizontalalignment='center',\n",
    "                         verticalalignment='center')"
   ]
  },
  {
   "cell_type": "code",
   "execution_count": 93,
   "id": "0c4d8849",
   "metadata": {},
   "outputs": [
    {
     "data": {
      "text/plain": [
       "<Figure size 432x288 with 0 Axes>"
      ]
     },
     "metadata": {},
     "output_type": "display_data"
    },
    {
     "data": {
      "image/png": "[encoded data removed]",
      "text/plain": [
       "<Figure size 648x648 with 2 Axes>"
      ]
     },
     "metadata": {
      "needs_background": "light"
     },
     "output_type": "display_data"
    }
   ],
   "source": [
    "# confusion matrix for predictions by random forest\n",
    "confusion = metrics.confusion_matrix(test_lbl, predictions_rf)\n",
    "plt.figure()\n",
    "plot_confusion_matrix(confusion);\n",
    "plt.show();"
   ]
  },
  {
   "cell_type": "markdown",
   "id": "bb177321",
   "metadata": {},
   "source": [
    "### Display some Misclassified images with Predicted Labels"
   ]
  },
  {
   "cell_type": "code",
   "execution_count": 94,
   "id": "bdeb0d0c",
   "metadata": {},
   "outputs": [],
   "source": [
    "index = 0\n",
    "misclassifiedIndex = []\n",
    "for label, predict in zip(test_lbl, predictions_rf):\n",
    "    if label != predict:\n",
    "        misclassifiedIndex.append(index)\n",
    "    index += 1"
   ]
  },
  {
   "cell_type": "code",
   "execution_count": 95,
   "id": "363a8862",
   "metadata": {},
   "outputs": [
    {
     "data": {
      "image/png": "[encoded data removed]",
      "text/plain": [
       "<Figure size 1440x288 with 5 Axes>"
      ]
     },
     "metadata": {
      "needs_background": "light"
     },
     "output_type": "display_data"
    }
   ],
   "source": [
    "plt.figure(figsize = (20,4))\n",
    "for plotIndex, badIndex in enumerate(misclassifiedIndex[10:15]):\n",
    "    plt.subplot(1,5, plotIndex + 1)\n",
    "    plt.imshow(np.reshape(test_img[badIndex], (28,28)), cmap=plt.cm.gray)\n",
    "    plt.title('Predicted: {}, Actual: {}'. format(predictions_rf[badIndex], test_lbl[badIndex]), fontsize = 15)"
   ]
  },
  {
   "cell_type": "markdown",
   "id": "d1cf0003",
   "metadata": {},
   "source": [
    " "
   ]
  }
 ],
 "metadata": {
  "kernelspec": {
   "display_name": "Python 3 (ipykernel)",
   "language": "python",
   "name": "python3"
  },
  "language_info": {
   "codemirror_mode": {
    "name": "ipython",
    "version": 3
   },
   "file_extension": ".py",
   "mimetype": "text/x-python",
   "name": "python",
   "nbconvert_exporter": "python",
   "pygments_lexer": "ipython3",
   "version": "3.9.7"
  }
 },
 "nbformat": 4,
 "nbformat_minor": 5
}
